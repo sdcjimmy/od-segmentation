{
 "cells": [
  {
   "cell_type": "code",
   "execution_count": null,
   "metadata": {},
   "outputs": [],
   "source": [
    "import sys\n",
    "import os\n",
    "sys.path.insert(0, '../lib/')\n",
    "\n",
    "# help_functions.py\n",
    "from image_processing import *\n",
    "from pre_processing import *\n",
    "from my_model import *\n"
   ]
  },
  {
   "cell_type": "code",
   "execution_count": null,
   "metadata": {},
   "outputs": [],
   "source": [
    "data_path = \"/home/ec2-user/data/IDRiD/hdf5/\"\n",
    "\n",
    "train_imgs = load_hdf5(data_path + \"loc_train_imgs\")\n",
    "train_center = load_hdf5(data_path + \"loc_train_center\")\n",
    "\n",
    "test_imgs = load_hdf5(data_path + \"loc_test_imgs\")\n",
    "test_imgs = load_hdf5(data_path + \"loc_test_center\")"
   ]
  },
  {
   "cell_type": "code",
   "execution_count": null,
   "metadata": {},
   "outputs": [],
   "source": []
  }
 ],
 "metadata": {
  "kernelspec": {
   "display_name": "Environment (conda_tensorflow_p36)",
   "language": "python",
   "name": "conda_tensorflow_p36"
  },
  "language_info": {
   "codemirror_mode": {
    "name": "ipython",
    "version": 3
   },
   "file_extension": ".py",
   "mimetype": "text/x-python",
   "name": "python",
   "nbconvert_exporter": "python",
   "pygments_lexer": "ipython3",
   "version": "3.6.6"
  }
 },
 "nbformat": 4,
 "nbformat_minor": 2
}
